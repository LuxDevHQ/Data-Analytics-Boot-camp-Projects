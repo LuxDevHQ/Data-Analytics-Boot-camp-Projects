{
 "cells": [
  {
   "cell_type": "markdown",
   "id": "3419dad4",
   "metadata": {},
   "source": [
    "### Built-in functions"
   ]
  },
  {
   "cell_type": "code",
   "execution_count": 4,
   "id": "71c68244",
   "metadata": {},
   "outputs": [
    {
     "data": {
      "text/plain": [
       "int"
      ]
     },
     "execution_count": 4,
     "metadata": {},
     "output_type": "execute_result"
    }
   ],
   "source": [
    "type(5)"
   ]
  },
  {
   "cell_type": "code",
   "execution_count": 5,
   "id": "11b00710",
   "metadata": {},
   "outputs": [
    {
     "name": "stdout",
     "output_type": "stream",
     "text": [
      "my name\n"
     ]
    }
   ],
   "source": [
    "print('my name')"
   ]
  },
  {
   "cell_type": "code",
   "execution_count": 6,
   "id": "19bf804b",
   "metadata": {},
   "outputs": [
    {
     "data": {
      "text/plain": [
       "9"
      ]
     },
     "execution_count": 6,
     "metadata": {},
     "output_type": "execute_result"
    }
   ],
   "source": [
    "numbers = [1,2,3,4,5,6,7,8,9]\n",
    "len(numbers)"
   ]
  },
  {
   "cell_type": "markdown",
   "id": "2719238c",
   "metadata": {},
   "source": [
    "### Custom functions"
   ]
  },
  {
   "cell_type": "markdown",
   "id": "b2996177",
   "metadata": {},
   "source": [
    "> Function is a reusable block of code or programming statements designed to perform a certain task.\n",
    "\n",
    "> To define or declare a function, python provides the def keyword. \n",
    "\n",
    "> The function block of code is executed only if the function is called or invoked."
   ]
  },
  {
   "cell_type": "code",
   "execution_count": null,
   "id": "f8e10ae0",
   "metadata": {},
   "outputs": [
    {
     "ename": "IndentationError",
     "evalue": "expected an indented block after function definition on line 2 (1505570125.py, line 7)",
     "output_type": "error",
     "traceback": [
      "  \u001b[36mCell\u001b[39m\u001b[36m \u001b[39m\u001b[32mIn[7]\u001b[39m\u001b[32m, line 7\u001b[39m\n\u001b[31m    \u001b[39m\u001b[31mfunction_name()\u001b[39m\n    ^\n\u001b[31mIndentationError\u001b[39m\u001b[31m:\u001b[39m expected an indented block after function definition on line 2\n"
     ]
    }
   ],
   "source": [
    "# defining function\n",
    "def function_name(age):\n",
    "    #codes\n",
    "    #codes\n",
    "\n",
    "# calling a function\n",
    "function_name()"
   ]
  },
  {
   "cell_type": "markdown",
   "id": "add92664",
   "metadata": {},
   "source": [
    "#### Paramenters\n",
    "- Is the variable listed inside the () in the function definition.\n",
    "\n",
    "#### Arguments\n",
    "- Is the value that is sent to the function when it is called"
   ]
  },
  {
   "cell_type": "markdown",
   "id": "742397b9",
   "metadata": {},
   "source": [
    "### Function without Paramenters\n",
    "- Function can be declared without parameters"
   ]
  },
  {
   "cell_type": "code",
   "execution_count": 10,
   "id": "d17ea2c3",
   "metadata": {},
   "outputs": [],
   "source": [
    "def full_name():\n",
    "    first_name= 'data'\n",
    "    last_name = 'enginer'\n",
    "    full_names = first_name + \" \" + last_name\n",
    "    print(full_names)"
   ]
  },
  {
   "cell_type": "code",
   "execution_count": null,
   "id": "e6404b62",
   "metadata": {},
   "outputs": [
    {
     "name": "stdout",
     "output_type": "stream",
     "text": [
      "data enginer\n"
     ]
    }
   ],
   "source": [
    "full_name() # calling function"
   ]
  },
  {
   "cell_type": "code",
   "execution_count": 17,
   "id": "2a2ca99b",
   "metadata": {},
   "outputs": [],
   "source": [
    "num_1 =364\n",
    "num_2 = 449984"
   ]
  },
  {
   "cell_type": "code",
   "execution_count": 18,
   "id": "ac48916f",
   "metadata": {},
   "outputs": [],
   "source": [
    "def add_2():\n",
    "    total = num_1 + num_2\n",
    "    print(total)"
   ]
  },
  {
   "cell_type": "code",
   "execution_count": 19,
   "id": "2b8205d2",
   "metadata": {},
   "outputs": [
    {
     "name": "stdout",
     "output_type": "stream",
     "text": [
      "450348\n"
     ]
    }
   ],
   "source": [
    "add_2()"
   ]
  },
  {
   "cell_type": "markdown",
   "id": "1db0f8c3",
   "metadata": {},
   "source": [
    "### Function Returning a value - Part 1\n",
    "- Function can also return values, if a function does not have a return statement, the value of the function is none."
   ]
  },
  {
   "cell_type": "code",
   "execution_count": 20,
   "id": "2436ad41",
   "metadata": {},
   "outputs": [],
   "source": [
    "def full_name():\n",
    "    first_name= 'data'\n",
    "    last_name = 'enginer'\n",
    "    full_names = first_name + \" \" + last_name\n",
    "    return full_names"
   ]
  },
  {
   "cell_type": "code",
   "execution_count": 21,
   "id": "944398e9",
   "metadata": {},
   "outputs": [
    {
     "data": {
      "text/plain": [
       "'data enginer'"
      ]
     },
     "execution_count": 21,
     "metadata": {},
     "output_type": "execute_result"
    }
   ],
   "source": [
    "full_name()"
   ]
  },
  {
   "cell_type": "markdown",
   "id": "ffab6dcb",
   "metadata": {},
   "source": [
    "Exercises: Level 1\n",
    "- Declare a function add_two_numbers. It returns a sum.\n",
    "- Area of a circle is calculated as follows: area = π x r x r. Write a function that calculates area_of_circle.\n",
    "- Temperature in °C can be converted to °F using this formula: °F = (°C x 9/5) + 32. Write a function which converts °C to °F, convert_celsius_to-fahrenheit."
   ]
  },
  {
   "cell_type": "markdown",
   "id": "adf97e3f",
   "metadata": {},
   "source": [
    "### Functions with paramenters\n",
    "- In function we can pass different data types(number, string, boolean, list, tuple, dict, set) as a parameter\n",
    "\n",
    "1. Single Parameter: If our unction takes a parameter we should call our function with an argument"
   ]
  },
  {
   "cell_type": "code",
   "execution_count": null,
   "id": "ebc19d0c",
   "metadata": {},
   "outputs": [],
   "source": [
    "#syntax\n",
    "#Declare\n",
    "def function_name(parameter):\n",
    "    codes\n",
    "    codes\n",
    "\n",
    "print(function_name(argument))"
   ]
  },
  {
   "cell_type": "code",
   "execution_count": 23,
   "id": "405c01be",
   "metadata": {},
   "outputs": [],
   "source": [
    "def greetings(name):\n",
    "    message = name + ', welcome to Python class!'\n",
    "    return message"
   ]
  },
  {
   "cell_type": "code",
   "execution_count": 25,
   "id": "c7bc3300",
   "metadata": {},
   "outputs": [
    {
     "name": "stdout",
     "output_type": "stream",
     "text": [
      "james, welcome to Python class!\n"
     ]
    }
   ],
   "source": [
    "print(greetings('james'))"
   ]
  },
  {
   "cell_type": "code",
   "execution_count": 26,
   "id": "e26797c3",
   "metadata": {},
   "outputs": [],
   "source": [
    "def add_ten(num):\n",
    "    ten = 10\n",
    "    return num + ten"
   ]
  },
  {
   "cell_type": "code",
   "execution_count": 27,
   "id": "e4267895",
   "metadata": {},
   "outputs": [
    {
     "name": "stdout",
     "output_type": "stream",
     "text": [
      "70\n"
     ]
    }
   ],
   "source": [
    "print(add_ten(60))"
   ]
  },
  {
   "cell_type": "markdown",
   "id": "d3bfd7ca",
   "metadata": {},
   "source": [
    "1. Write a function called check-season, it takes a month parameter and returns the season: Autumn, Winter, Spring or Summer.\n",
    "2. Declare a function named print_list. It takes a list as a parameter and it prints out each element of the list."
   ]
  },
  {
   "cell_type": "code",
   "execution_count": 28,
   "id": "b081f73f",
   "metadata": {},
   "outputs": [],
   "source": [
    "def check_season(month):\n",
    "    month = month.lower()\n",
    "\n",
    "    if month in ['march', 'april', 'may']:\n",
    "        return 'Spring'\n",
    "    elif month in ['june', 'july', 'august']:\n",
    "        return 'Summer'\n",
    "    elif month in ['september', 'october', 'november']:\n",
    "        return 'Autumn'\n",
    "    elif month in ['december', 'january', 'february']:\n",
    "        return 'Winter'\n",
    "    else:\n",
    "        return 'Invalid month'\n"
   ]
  },
  {
   "cell_type": "code",
   "execution_count": 29,
   "id": "08288d09",
   "metadata": {},
   "outputs": [
    {
     "name": "stdout",
     "output_type": "stream",
     "text": [
      "Spring\n"
     ]
    }
   ],
   "source": [
    "print(check_season(\"April\"))"
   ]
  },
  {
   "cell_type": "markdown",
   "id": "8ac317d5",
   "metadata": {},
   "source": [
    "2. Two parameter: A function may or may not have a parameter or parameters. A function may also have two or more parameters. If our function takes parameters we should call it with arguments."
   ]
  },
  {
   "cell_type": "code",
   "execution_count": null,
   "id": "65909d67",
   "metadata": {},
   "outputs": [],
   "source": [
    "#syntax\n",
    "def function_name(param1, param2):\n",
    "    #codes\n",
    "    #codes\n",
    "print(function_name(arg1, arg2))"
   ]
  },
  {
   "cell_type": "code",
   "execution_count": 30,
   "id": "603ac8a0",
   "metadata": {},
   "outputs": [],
   "source": [
    "def current_age(current_year, birth_year):\n",
    "    age = current_year-birth_year\n",
    "    return age"
   ]
  },
  {
   "cell_type": "code",
   "execution_count": 31,
   "id": "8e26d002",
   "metadata": {},
   "outputs": [
    {
     "name": "stdout",
     "output_type": "stream",
     "text": [
      "45\n"
     ]
    }
   ],
   "source": [
    "print(current_age(2025, 1980))"
   ]
  },
  {
   "cell_type": "code",
   "execution_count": 32,
   "id": "0da7c814",
   "metadata": {},
   "outputs": [],
   "source": [
    "def rect(length, width):\n",
    "    area = length * width\n",
    "    return area"
   ]
  },
  {
   "cell_type": "code",
   "execution_count": 33,
   "id": "6ffd3d93",
   "metadata": {},
   "outputs": [
    {
     "data": {
      "text/plain": [
       "2915"
      ]
     },
     "execution_count": 33,
     "metadata": {},
     "output_type": "execute_result"
    }
   ],
   "source": [
    "rect(53,55)"
   ]
  },
  {
   "cell_type": "markdown",
   "id": "d8fb6bfa",
   "metadata": {},
   "source": [
    "### Passing Arguments with Key and value"
   ]
  },
  {
   "cell_type": "markdown",
   "id": "231a99eb",
   "metadata": {},
   "source": [
    "- N/B = If we pass the arguments with key and value, the order of the arguments does not matter"
   ]
  },
  {
   "cell_type": "code",
   "execution_count": null,
   "id": "cb11f5a1",
   "metadata": {},
   "outputs": [],
   "source": [
    "#syntax\n",
    "def function_name(para1, param2):\n",
    "    #codes\n",
    "    #codes\n",
    "\n",
    "#calling\n",
    "print(function_name(para1 = 'lux', para2 = 'dev')) # the order of arguments does not matter"
   ]
  },
  {
   "cell_type": "code",
   "execution_count": 36,
   "id": "778d715c",
   "metadata": {},
   "outputs": [
    {
     "name": "stdout",
     "output_type": "stream",
     "text": [
      "lux dev\n",
      "None\n"
     ]
    }
   ],
   "source": [
    "def full_num(firstname, lastname):\n",
    "    full_name  = firstname + ' ' + lastname\n",
    "    print(full_name)\n",
    "\n",
    "print(full_num(firstname='lux', lastname='dev'))"
   ]
  },
  {
   "cell_type": "markdown",
   "id": "9c133e78",
   "metadata": {},
   "source": [
    "### Function Returning a value - Part 2"
   ]
  },
  {
   "cell_type": "code",
   "execution_count": null,
   "id": "68e30ca6",
   "metadata": {},
   "outputs": [],
   "source": []
  }
 ],
 "metadata": {
  "kernelspec": {
   "display_name": "base",
   "language": "python",
   "name": "python3"
  },
  "language_info": {
   "codemirror_mode": {
    "name": "ipython",
    "version": 3
   },
   "file_extension": ".py",
   "mimetype": "text/x-python",
   "name": "python",
   "nbconvert_exporter": "python",
   "pygments_lexer": "ipython3",
   "version": "3.12.7"
  }
 },
 "nbformat": 4,
 "nbformat_minor": 5
}
