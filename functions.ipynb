{
 "cells": [
  {
   "cell_type": "markdown",
   "id": "3419dad4",
   "metadata": {},
   "source": [
    "### Built-in functions"
   ]
  },
  {
   "cell_type": "code",
   "execution_count": 4,
   "id": "71c68244",
   "metadata": {},
   "outputs": [
    {
     "data": {
      "text/plain": [
       "int"
      ]
     },
     "execution_count": 4,
     "metadata": {},
     "output_type": "execute_result"
    }
   ],
   "source": [
    "type(5)"
   ]
  },
  {
   "cell_type": "code",
   "execution_count": 5,
   "id": "11b00710",
   "metadata": {},
   "outputs": [
    {
     "name": "stdout",
     "output_type": "stream",
     "text": [
      "my name\n"
     ]
    }
   ],
   "source": [
    "print('my name')"
   ]
  },
  {
   "cell_type": "code",
   "execution_count": 6,
   "id": "19bf804b",
   "metadata": {},
   "outputs": [
    {
     "data": {
      "text/plain": [
       "9"
      ]
     },
     "execution_count": 6,
     "metadata": {},
     "output_type": "execute_result"
    }
   ],
   "source": [
    "numbers = [1,2,3,4,5,6,7,8,9]\n",
    "len(numbers)"
   ]
  },
  {
   "cell_type": "markdown",
   "id": "2719238c",
   "metadata": {},
   "source": [
    "### Custom functions"
   ]
  },
  {
   "cell_type": "markdown",
   "id": "b2996177",
   "metadata": {},
   "source": [
    "> Function is a reusable block of code or programming statements designed to perform a certain task.\n",
    "\n",
    "> To define or declare a function, python provides the def keyword. \n",
    "\n",
    "> The function block of code is executed only if the function is called or invoked."
   ]
  },
  {
   "cell_type": "code",
   "execution_count": null,
   "id": "f8e10ae0",
   "metadata": {},
   "outputs": [
    {
     "ename": "IndentationError",
     "evalue": "expected an indented block after function definition on line 2 (1505570125.py, line 7)",
     "output_type": "error",
     "traceback": [
      "  \u001b[36mCell\u001b[39m\u001b[36m \u001b[39m\u001b[32mIn[7]\u001b[39m\u001b[32m, line 7\u001b[39m\n\u001b[31m    \u001b[39m\u001b[31mfunction_name()\u001b[39m\n    ^\n\u001b[31mIndentationError\u001b[39m\u001b[31m:\u001b[39m expected an indented block after function definition on line 2\n"
     ]
    }
   ],
   "source": [
    "# defining function\n",
    "def function_name(age):\n",
    "    #codes\n",
    "    #codes\n",
    "\n",
    "# calling a function\n",
    "function_name()"
   ]
  },
  {
   "cell_type": "markdown",
   "id": "add92664",
   "metadata": {},
   "source": [
    "#### Paramenters\n",
    "- Is the variable listed inside the () in the function definition.\n",
    "\n",
    "#### Arguments\n",
    "- Is the value that is sent to the function when it is called"
   ]
  },
  {
   "cell_type": "markdown",
   "id": "742397b9",
   "metadata": {},
   "source": [
    "### Function without Paramenters\n",
    "- Function can be declared without parameters"
   ]
  },
  {
   "cell_type": "code",
   "execution_count": 10,
   "id": "d17ea2c3",
   "metadata": {},
   "outputs": [],
   "source": [
    "def full_name():\n",
    "    first_name= 'data'\n",
    "    last_name = 'enginer'\n",
    "    full_names = first_name + \" \" + last_name\n",
    "    print(full_names)"
   ]
  },
  {
   "cell_type": "code",
   "execution_count": null,
   "id": "e6404b62",
   "metadata": {},
   "outputs": [
    {
     "name": "stdout",
     "output_type": "stream",
     "text": [
      "data enginer\n"
     ]
    }
   ],
   "source": [
    "full_name() # calling function"
   ]
  },
  {
   "cell_type": "code",
   "execution_count": 17,
   "id": "2a2ca99b",
   "metadata": {},
   "outputs": [],
   "source": [
    "num_1 =364\n",
    "num_2 = 449984"
   ]
  },
  {
   "cell_type": "code",
   "execution_count": 18,
   "id": "ac48916f",
   "metadata": {},
   "outputs": [],
   "source": [
    "def add_2():\n",
    "    total = num_1 + num_2\n",
    "    print(total)"
   ]
  },
  {
   "cell_type": "code",
   "execution_count": 19,
   "id": "2b8205d2",
   "metadata": {},
   "outputs": [
    {
     "name": "stdout",
     "output_type": "stream",
     "text": [
      "450348\n"
     ]
    }
   ],
   "source": [
    "add_2()"
   ]
  },
  {
   "cell_type": "markdown",
   "id": "1db0f8c3",
   "metadata": {},
   "source": [
    "### Function Returning a value - Part 1\n",
    "- Function can also return values, if a function does not have a return statement, the value of the function is none."
   ]
  },
  {
   "cell_type": "code",
   "execution_count": 20,
   "id": "2436ad41",
   "metadata": {},
   "outputs": [],
   "source": [
    "def full_name():\n",
    "    first_name= 'data'\n",
    "    last_name = 'enginer'\n",
    "    full_names = first_name + \" \" + last_name\n",
    "    return full_names"
   ]
  },
  {
   "cell_type": "code",
   "execution_count": 21,
   "id": "944398e9",
   "metadata": {},
   "outputs": [
    {
     "data": {
      "text/plain": [
       "'data enginer'"
      ]
     },
     "execution_count": 21,
     "metadata": {},
     "output_type": "execute_result"
    }
   ],
   "source": [
    "full_name()"
   ]
  },
  {
   "cell_type": "markdown",
   "id": "ffab6dcb",
   "metadata": {},
   "source": [
    "Exercises: Level 1\n",
    "- Declare a function add_two_numbers. It returns a sum.\n",
    "- Area of a circle is calculated as follows: area = π x r x r. Write a function that calculates area_of_circle.\n",
    "- Temperature in °C can be converted to °F using this formula: °F = (°C x 9/5) + 32. Write a function which converts °C to °F, convert_celsius_to-fahrenheit."
   ]
  },
  {
   "cell_type": "markdown",
   "id": "adf97e3f",
   "metadata": {},
   "source": [
    "### Functions with paramenters\n",
    "- In function we can pass different data types(number, string, boolean, list, tuple, dict, set) as a parameter\n",
    "\n",
    "1. Single Parameter: If our unction takes a parameter we should call our function with an argument"
   ]
  },
  {
   "cell_type": "code",
   "execution_count": null,
   "id": "ebc19d0c",
   "metadata": {},
   "outputs": [],
   "source": [
    "#syntax\n",
    "#Declare\n",
    "def function_name(parameter):\n",
    "    codes\n",
    "    codes\n",
    "\n",
    "print(function_name(argument))"
   ]
  },
  {
   "cell_type": "code",
   "execution_count": 23,
   "id": "405c01be",
   "metadata": {},
   "outputs": [],
   "source": [
    "def greetings(name):\n",
    "    message = name + ', welcome to Python class!'\n",
    "    return message"
   ]
  },
  {
   "cell_type": "code",
   "execution_count": 25,
   "id": "c7bc3300",
   "metadata": {},
   "outputs": [
    {
     "name": "stdout",
     "output_type": "stream",
     "text": [
      "james, welcome to Python class!\n"
     ]
    }
   ],
   "source": [
    "print(greetings('james'))"
   ]
  },
  {
   "cell_type": "code",
   "execution_count": 26,
   "id": "e26797c3",
   "metadata": {},
   "outputs": [],
   "source": [
    "def add_ten(num):\n",
    "    ten = 10\n",
    "    return num + ten"
   ]
  },
  {
   "cell_type": "code",
   "execution_count": 27,
   "id": "e4267895",
   "metadata": {},
   "outputs": [
    {
     "name": "stdout",
     "output_type": "stream",
     "text": [
      "70\n"
     ]
    }
   ],
   "source": [
    "print(add_ten(60))"
   ]
  },
  {
   "cell_type": "markdown",
   "id": "d3bfd7ca",
   "metadata": {},
   "source": [
    "1. Write a function called check-season, it takes a month parameter and returns the season: Autumn, Winter, Spring or Summer.\n",
    "2. Declare a function named print_list. It takes a list as a parameter and it prints out each element of the list."
   ]
  },
  {
   "cell_type": "code",
   "execution_count": 28,
   "id": "b081f73f",
   "metadata": {},
   "outputs": [],
   "source": [
    "def check_season(month):\n",
    "    month = month.lower()\n",
    "\n",
    "    if month in ['march', 'april', 'may']:\n",
    "        return 'Spring'\n",
    "    elif month in ['june', 'july', 'august']:\n",
    "        return 'Summer'\n",
    "    elif month in ['september', 'october', 'november']:\n",
    "        return 'Autumn'\n",
    "    elif month in ['december', 'january', 'february']:\n",
    "        return 'Winter'\n",
    "    else:\n",
    "        return 'Invalid month'\n"
   ]
  },
  {
   "cell_type": "code",
   "execution_count": 29,
   "id": "08288d09",
   "metadata": {},
   "outputs": [
    {
     "name": "stdout",
     "output_type": "stream",
     "text": [
      "Spring\n"
     ]
    }
   ],
   "source": [
    "print(check_season(\"April\"))"
   ]
  },
  {
   "cell_type": "markdown",
   "id": "8ac317d5",
   "metadata": {},
   "source": [
    "2. Two parameter: A function may or may not have a parameter or parameters. A function may also have two or more parameters. If our function takes parameters we should call it with arguments."
   ]
  },
  {
   "cell_type": "code",
   "execution_count": null,
   "id": "65909d67",
   "metadata": {},
   "outputs": [],
   "source": [
    "#syntax\n",
    "def function_name(param1, param2):\n",
    "    #codes\n",
    "    #codes\n",
    "print(function_name(arg1, arg2))"
   ]
  },
  {
   "cell_type": "code",
   "execution_count": 30,
   "id": "603ac8a0",
   "metadata": {},
   "outputs": [],
   "source": [
    "def current_age(current_year, birth_year):\n",
    "    age = current_year-birth_year\n",
    "    return age"
   ]
  },
  {
   "cell_type": "code",
   "execution_count": 31,
   "id": "8e26d002",
   "metadata": {},
   "outputs": [
    {
     "name": "stdout",
     "output_type": "stream",
     "text": [
      "45\n"
     ]
    }
   ],
   "source": [
    "print(current_age(2025, 1980))"
   ]
  },
  {
   "cell_type": "code",
   "execution_count": 32,
   "id": "0da7c814",
   "metadata": {},
   "outputs": [],
   "source": [
    "def rect(length, width):\n",
    "    area = length * width\n",
    "    return area"
   ]
  },
  {
   "cell_type": "code",
   "execution_count": 33,
   "id": "6ffd3d93",
   "metadata": {},
   "outputs": [
    {
     "data": {
      "text/plain": [
       "2915"
      ]
     },
     "execution_count": 33,
     "metadata": {},
     "output_type": "execute_result"
    }
   ],
   "source": [
    "rect(53,55)"
   ]
  },
  {
   "cell_type": "markdown",
   "id": "d8fb6bfa",
   "metadata": {},
   "source": [
    "### Passing Arguments with Key and value"
   ]
  },
  {
   "cell_type": "markdown",
   "id": "231a99eb",
   "metadata": {},
   "source": [
    "- N/B = If we pass the arguments with key and value, the order of the arguments does not matter"
   ]
  },
  {
   "cell_type": "code",
   "execution_count": null,
   "id": "cb11f5a1",
   "metadata": {},
   "outputs": [],
   "source": [
    "#syntax\n",
    "def function_name(para1, param2):\n",
    "    #codes\n",
    "    #codes\n",
    "\n",
    "#calling\n",
    "print(function_name(para1 = 'lux', para2 = 'dev')) # the order of arguments does not matter"
   ]
  },
  {
   "cell_type": "code",
   "execution_count": 36,
   "id": "778d715c",
   "metadata": {},
   "outputs": [
    {
     "name": "stdout",
     "output_type": "stream",
     "text": [
      "lux dev\n",
      "None\n"
     ]
    }
   ],
   "source": [
    "def full_num(firstname, lastname):\n",
    "    full_name  = firstname + ' ' + lastname\n",
    "    print(full_name)\n",
    "\n",
    "print(full_num(firstname='lux', lastname='dev'))"
   ]
  },
  {
   "cell_type": "markdown",
   "id": "47800d4b",
   "metadata": {},
   "source": [
    "- Write a function called calculate_slope which return the slope of a linear equation"
   ]
  },
  {
   "cell_type": "code",
   "execution_count": 1,
   "id": "1b42a095",
   "metadata": {},
   "outputs": [],
   "source": [
    "#ax+by+c= 0\n",
    "#slope = -a/b\n",
    "def calculate_slope(a, b):\n",
    "    if b ==0:\n",
    "        return 'slope is undefined (b=0)'\n",
    "    slope= -a/b\n",
    "    return slope"
   ]
  },
  {
   "cell_type": "code",
   "execution_count": 2,
   "id": "80e2f7aa",
   "metadata": {},
   "outputs": [
    {
     "data": {
      "text/plain": [
       "-0.42857142857142855"
      ]
     },
     "execution_count": 2,
     "metadata": {},
     "output_type": "execute_result"
    }
   ],
   "source": [
    "calculate_slope(3,7)"
   ]
  },
  {
   "cell_type": "markdown",
   "id": "3b175e71",
   "metadata": {},
   "source": [
    "- Quadratic equation is calculated as follows: ax² + bx + c = 0. Write a function which calculates solution set of a quadratic equation, solve_quadratic_eqn."
   ]
  },
  {
   "cell_type": "code",
   "execution_count": 3,
   "id": "033e8332",
   "metadata": {},
   "outputs": [],
   "source": [
    "#ax² + bx + c = 0\n",
    "import math\n",
    "\n",
    "def solve_quadratic_eqn(a,b,c):\n",
    "    if a == 0:\n",
    "        return 'no equation'\n",
    "    d=b**2-4*a*c #discriminant\n",
    "\n",
    "    if d > 0:\n",
    "        x1 = (-b+math.sqrt(d))/(2*a)\n",
    "        x2 = (-b-math.sqrt(d))/(2*a)\n",
    "        return x1, x2\n",
    "    elif d==0:\n",
    "        x=-b/(2*a)\n",
    "        return x\n",
    "    else:\n",
    "        return 'no solution'"
   ]
  },
  {
   "cell_type": "code",
   "execution_count": 5,
   "id": "d79c1374",
   "metadata": {},
   "outputs": [
    {
     "data": {
      "text/plain": [
       "(2.0, 1.0)"
      ]
     },
     "execution_count": 5,
     "metadata": {},
     "output_type": "execute_result"
    }
   ],
   "source": [
    "solve_quadratic_eqn(1,-3,2)"
   ]
  },
  {
   "cell_type": "markdown",
   "id": "9c133e78",
   "metadata": {},
   "source": [
    "### Function Returning a value - Part 2"
   ]
  },
  {
   "cell_type": "markdown",
   "id": "68e30ca6",
   "metadata": {},
   "source": [
    "- string\n",
    "- number\n",
    "- boolean\n",
    "- list"
   ]
  },
  {
   "cell_type": "code",
   "execution_count": 8,
   "id": "d5fb9415",
   "metadata": {},
   "outputs": [],
   "source": [
    "x ='jet'"
   ]
  },
  {
   "cell_type": "code",
   "execution_count": 6,
   "id": "3d556ce1",
   "metadata": {},
   "outputs": [],
   "source": [
    "#string\n",
    "def print_name(first_name):\n",
    "    return first_name"
   ]
  },
  {
   "cell_type": "code",
   "execution_count": 10,
   "id": "8ad10f21",
   "metadata": {},
   "outputs": [
    {
     "data": {
      "text/plain": [
       "'jet'"
      ]
     },
     "execution_count": 10,
     "metadata": {},
     "output_type": "execute_result"
    }
   ],
   "source": [
    "print_name(x)"
   ]
  },
  {
   "cell_type": "code",
   "execution_count": 11,
   "id": "423b8c67",
   "metadata": {},
   "outputs": [
    {
     "data": {
      "text/plain": [
       "13"
      ]
     },
     "execution_count": 11,
     "metadata": {},
     "output_type": "execute_result"
    }
   ],
   "source": [
    "#number\n",
    "def add_num(n1, n2):\n",
    "    total = n1 + n2\n",
    "    return total\n",
    "\n",
    "add_num(4,9)"
   ]
  },
  {
   "cell_type": "code",
   "execution_count": 41,
   "id": "d86cb473",
   "metadata": {},
   "outputs": [
    {
     "name": "stdout",
     "output_type": "stream",
     "text": [
      "even\n"
     ]
    },
    {
     "data": {
      "text/plain": [
       "True"
      ]
     },
     "execution_count": 41,
     "metadata": {},
     "output_type": "execute_result"
    }
   ],
   "source": [
    "#boolean\n",
    "def is_even(n):\n",
    "    if n % 2 == 0:\n",
    "        print('even')\n",
    "        return True\n",
    "    return False\n",
    "\n",
    "is_even(1890)"
   ]
  },
  {
   "cell_type": "code",
   "execution_count": 27,
   "id": "d1490ce1",
   "metadata": {},
   "outputs": [],
   "source": [
    "#list\n",
    "def get_even(n):\n",
    "    evens=[]\n",
    "    for i in range(n+2):\n",
    "        if i % 2 == 0:\n",
    "           evens.append(i)\n",
    "    return evens"
   ]
  },
  {
   "cell_type": "code",
   "execution_count": 28,
   "id": "e460ca96",
   "metadata": {},
   "outputs": [
    {
     "data": {
      "text/plain": [
       "[0, 2, 4, 6, 8, 10, 12, 14, 16, 18, 20]"
      ]
     },
     "execution_count": 28,
     "metadata": {},
     "output_type": "execute_result"
    }
   ],
   "source": [
    "get_even(19)"
   ]
  },
  {
   "cell_type": "markdown",
   "id": "ac50b5e4",
   "metadata": {},
   "source": [
    "### Functions with Default Parameters"
   ]
  },
  {
   "cell_type": "markdown",
   "id": "edeb0ca1",
   "metadata": {},
   "source": [
    "- Sometimes we pass default values to parameters, when we invoke the function. If we do not pass arguments when calling the function, their default values will be used."
   ]
  },
  {
   "cell_type": "code",
   "execution_count": null,
   "id": "f417e4af",
   "metadata": {},
   "outputs": [],
   "source": [
    "#syntax\n",
    "def function_name(param = value):\n",
    "    #codes\n",
    "    #codes\n",
    "\n",
    "#calling\n",
    "function_name()\n",
    "function_name(arg)"
   ]
  },
  {
   "cell_type": "code",
   "execution_count": 29,
   "id": "380c50ff",
   "metadata": {},
   "outputs": [],
   "source": [
    "def greetings(name='Austin'):\n",
    "    message = name + ',how are you doing?'\n",
    "    return message"
   ]
  },
  {
   "cell_type": "code",
   "execution_count": 30,
   "id": "86879475",
   "metadata": {},
   "outputs": [
    {
     "data": {
      "text/plain": [
       "'Austin,how are you doing?'"
      ]
     },
     "execution_count": 30,
     "metadata": {},
     "output_type": "execute_result"
    }
   ],
   "source": [
    "greetings()"
   ]
  },
  {
   "cell_type": "code",
   "execution_count": 31,
   "id": "c80e6154",
   "metadata": {},
   "outputs": [
    {
     "data": {
      "text/plain": [
       "'Joyce,how are you doing?'"
      ]
     },
     "execution_count": 31,
     "metadata": {},
     "output_type": "execute_result"
    }
   ],
   "source": [
    "greetings('Joyce')"
   ]
  },
  {
   "cell_type": "code",
   "execution_count": 32,
   "id": "7d96cfb1",
   "metadata": {},
   "outputs": [],
   "source": [
    "def calc_year(birth_year, current_year = 2025):\n",
    "    age = current_year - birth_year\n",
    "    return age"
   ]
  },
  {
   "cell_type": "code",
   "execution_count": 39,
   "id": "3690cca4",
   "metadata": {},
   "outputs": [
    {
     "data": {
      "text/plain": [
       "35"
      ]
     },
     "execution_count": 39,
     "metadata": {},
     "output_type": "execute_result"
    }
   ],
   "source": [
    "calc_year(1990, 2025)"
   ]
  },
  {
   "cell_type": "markdown",
   "id": "320fd7c0",
   "metadata": {},
   "source": [
    "### Arbitrary Number of arguments\n",
    "- (*args): If the number of arguments to be passed into the function is unknown, we add a ( * ) before the argument name"
   ]
  },
  {
   "cell_type": "code",
   "execution_count": null,
   "id": "223befae",
   "metadata": {},
   "outputs": [],
   "source": [
    "def function_name(*args):\n",
    "    codes\n",
    "    codes\n",
    "#calling f\n",
    "function_name(parm1, param2, param3,.....)"
   ]
  },
  {
   "cell_type": "code",
   "execution_count": 36,
   "id": "ea716108",
   "metadata": {},
   "outputs": [],
   "source": [
    "def sum_all(*nums):\n",
    "    total = 0\n",
    "    for num in nums:\n",
    "        total= total + num\n",
    "    return total"
   ]
  },
  {
   "cell_type": "code",
   "execution_count": 37,
   "id": "1f775ab9",
   "metadata": {},
   "outputs": [
    {
     "data": {
      "text/plain": [
       "37"
      ]
     },
     "execution_count": 37,
     "metadata": {},
     "output_type": "execute_result"
    }
   ],
   "source": [
    "sum_all(2,3,4,5,6,7,6,4)"
   ]
  },
  {
   "cell_type": "code",
   "execution_count": 42,
   "id": "9e87a50b",
   "metadata": {},
   "outputs": [],
   "source": [
    "def groups(team, *args):\n",
    "    print(team)\n",
    "    for i in args:\n",
    "        print(i)"
   ]
  },
  {
   "cell_type": "code",
   "execution_count": 44,
   "id": "e69dc429",
   "metadata": {},
   "outputs": [
    {
     "name": "stdout",
     "output_type": "stream",
     "text": [
      "team-1\n",
      "job\n",
      "check\n",
      "davy\n",
      "davy1\n",
      "davy2\n",
      "davy3\n",
      "davy\n"
     ]
    }
   ],
   "source": [
    "groups('team-1','job','check','davy','davy1','davy2','davy3','davy')"
   ]
  },
  {
   "cell_type": "code",
   "execution_count": 45,
   "id": "2955cb39",
   "metadata": {},
   "outputs": [],
   "source": [
    "def dict_1(**kwargs):\n",
    "    for key, value in kwargs.items():\n",
    "        print(f\"{key}:{value}\")"
   ]
  },
  {
   "cell_type": "code",
   "execution_count": 46,
   "id": "5f2913a6",
   "metadata": {},
   "outputs": [
    {
     "name": "stdout",
     "output_type": "stream",
     "text": [
      "name:james\n",
      "age:78\n",
      "city:nyanza\n"
     ]
    }
   ],
   "source": [
    "dict_1(name='james', age=78, city='nyanza')"
   ]
  },
  {
   "cell_type": "code",
   "execution_count": 47,
   "id": "7a78d6dd",
   "metadata": {},
   "outputs": [],
   "source": [
    "def dict_2(*args, **kwargs):\n",
    "    print(\"Positional arguments:\", args)\n",
    "    print(\"Keyword arguments:\", kwargs)\n"
   ]
  },
  {
   "cell_type": "code",
   "execution_count": 48,
   "id": "e7cde85d",
   "metadata": {},
   "outputs": [
    {
     "name": "stdout",
     "output_type": "stream",
     "text": [
      "Positional arguments: (1, 2, 'a')\n",
      "Keyword arguments: {'name': 'bob', 'age': 90}\n"
     ]
    }
   ],
   "source": [
    "dict_2(1,2,\"a\",name=\"bob\", age = 90)"
   ]
  },
  {
   "cell_type": "code",
   "execution_count": null,
   "id": "3388c271",
   "metadata": {},
   "outputs": [],
   "source": []
  }
 ],
 "metadata": {
  "kernelspec": {
   "display_name": "Python 3",
   "language": "python",
   "name": "python3"
  },
  "language_info": {
   "codemirror_mode": {
    "name": "ipython",
    "version": 3
   },
   "file_extension": ".py",
   "mimetype": "text/x-python",
   "name": "python",
   "nbconvert_exporter": "python",
   "pygments_lexer": "ipython3",
   "version": "3.12.9"
  }
 },
 "nbformat": 4,
 "nbformat_minor": 5
}
