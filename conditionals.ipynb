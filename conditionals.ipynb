{
 "cells": [
  {
   "cell_type": "markdown",
   "id": "88d793a2",
   "metadata": {},
   "source": [
    "### Conditionals"
   ]
  },
  {
   "cell_type": "markdown",
   "id": "8f9939ee",
   "metadata": {},
   "source": [
    "- if, else, elif"
   ]
  },
  {
   "cell_type": "markdown",
   "id": "7362064b",
   "metadata": {},
   "source": [
    "#### If condition\n",
    "- In python the key word if is used to check if a condition is true and to execute the block code.\n",
    "> N/B:REMEBER THE INDENTATION AFTER THE COLON"
   ]
  },
  {
   "cell_type": "code",
   "execution_count": null,
   "id": "c5d16cd9",
   "metadata": {},
   "outputs": [],
   "source": [
    "#syntax\n",
    "if condition:\n",
    "    this part of code runs for truthy conditions"
   ]
  },
  {
   "cell_type": "code",
   "execution_count": 19,
   "id": "77c2210f",
   "metadata": {},
   "outputs": [],
   "source": [
    "number = 0"
   ]
  },
  {
   "cell_type": "code",
   "execution_count": 14,
   "id": "e8bc3a71",
   "metadata": {},
   "outputs": [],
   "source": [
    "if number > 0:\n",
    "    print('Positive!')"
   ]
  },
  {
   "cell_type": "markdown",
   "id": "797ec092",
   "metadata": {},
   "source": [
    "### If else"
   ]
  },
  {
   "cell_type": "markdown",
   "id": "b06e0cd5",
   "metadata": {},
   "source": [
    "- If condition is true the first block will be executed, if not the else condition will run"
   ]
  },
  {
   "cell_type": "code",
   "execution_count": null,
   "id": "930fd183",
   "metadata": {},
   "outputs": [],
   "source": [
    "#syntax\n",
    "if condition:\n",
    "    this part of code runs for truthy conditions\n",
    "else:\n",
    "    this part of code runs for false conditions"
   ]
  },
  {
   "cell_type": "code",
   "execution_count": 15,
   "id": "a3322632",
   "metadata": {},
   "outputs": [
    {
     "name": "stdout",
     "output_type": "stream",
     "text": [
      "Negative\n"
     ]
    }
   ],
   "source": [
    "if number > 0:\n",
    "    print('Positive!')\n",
    "else:\n",
    "    print('Negative')"
   ]
  },
  {
   "cell_type": "markdown",
   "id": "9e908544",
   "metadata": {},
   "source": [
    "- The condition above proves false, therefore the else block was excuted. How about if our condition is more than two? We could use the elif."
   ]
  },
  {
   "cell_type": "markdown",
   "id": "ff117dfc",
   "metadata": {},
   "source": [
    "### If Elif Else\n",
    "- We use elif when we have multiple conditions"
   ]
  },
  {
   "cell_type": "code",
   "execution_count": null,
   "id": "3b272423",
   "metadata": {},
   "outputs": [],
   "source": []
  },
  {
   "cell_type": "code",
   "execution_count": null,
   "id": "e45b9047",
   "metadata": {},
   "outputs": [],
   "source": [
    "# syntax\n",
    "if condition:\n",
    "    Code\n",
    "elif condition:\n",
    "    code\n",
    "else:\n",
    "    code"
   ]
  },
  {
   "cell_type": "code",
   "execution_count": 20,
   "id": "c8e03940",
   "metadata": {},
   "outputs": [
    {
     "name": "stdout",
     "output_type": "stream",
     "text": [
      "zero\n"
     ]
    }
   ],
   "source": [
    "if number > 0:\n",
    "    print('Positive!')\n",
    "elif number < 0:\n",
    "    print('Negative')\n",
    "else:\n",
    "    print('zero')"
   ]
  },
  {
   "cell_type": "markdown",
   "id": "a381253b",
   "metadata": {},
   "source": [
    "### Short Hand"
   ]
  },
  {
   "cell_type": "code",
   "execution_count": null,
   "id": "c7399542",
   "metadata": {},
   "outputs": [],
   "source": [
    "#syntax\n",
    "code if condition else code"
   ]
  },
  {
   "cell_type": "code",
   "execution_count": 21,
   "id": "0875976b",
   "metadata": {},
   "outputs": [
    {
     "name": "stdout",
     "output_type": "stream",
     "text": [
      "negative\n"
     ]
    }
   ],
   "source": [
    "print('Positive') if number > 0 else print('negative')"
   ]
  },
  {
   "cell_type": "markdown",
   "id": "f8df202f",
   "metadata": {},
   "source": [
    "### Nested Conditions\n",
    "- Nested means one thing is placed within another."
   ]
  },
  {
   "cell_type": "code",
   "execution_count": null,
   "id": "8a74eec8",
   "metadata": {},
   "outputs": [],
   "source": [
    "#syntax\n",
    "if conditions:\n",
    "    Code\n",
    "    if conditions:\n",
    "        code"
   ]
  },
  {
   "cell_type": "code",
   "execution_count": 35,
   "id": "ce294741",
   "metadata": {},
   "outputs": [],
   "source": [
    "temp = 10"
   ]
  },
  {
   "cell_type": "code",
   "execution_count": 30,
   "id": "99a1f131",
   "metadata": {},
   "outputs": [
    {
     "name": "stdout",
     "output_type": "stream",
     "text": [
      "Temp is zero\n"
     ]
    }
   ],
   "source": [
    "if temp > 0:\n",
    "    if temp % 2 == 0:\n",
    "        print('Temp is positive and even')\n",
    "    else:\n",
    "        print('Temp is positive number')\n",
    "elif temp ==0:\n",
    "    print('Temp is zero')\n",
    "else:\n",
    "    print('Temp is a negative number!!')"
   ]
  },
  {
   "cell_type": "markdown",
   "id": "1755ec3b",
   "metadata": {},
   "source": [
    "### If condition and logical Operators"
   ]
  },
  {
   "cell_type": "markdown",
   "id": "155ce93c",
   "metadata": {},
   "source": [
    "- We can avoid writing nested condition by using logical operator *and*"
   ]
  },
  {
   "cell_type": "code",
   "execution_count": null,
   "id": "e5afe54b",
   "metadata": {},
   "outputs": [],
   "source": [
    "#syntax\n",
    "if condition and condition:\n",
    "    code"
   ]
  },
  {
   "cell_type": "code",
   "execution_count": 36,
   "id": "0789a04e",
   "metadata": {},
   "outputs": [
    {
     "name": "stdout",
     "output_type": "stream",
     "text": [
      "Temp is positive and even\n"
     ]
    }
   ],
   "source": [
    "if temp > 0 and temp % 2 == 0:\n",
    "    print('Temp is positive and even')\n",
    "elif temp > 0 and temp % 2 != 0:\n",
    "    print('Temp is positive and odd')\n",
    "elif temp ==0:\n",
    "    print('Temp is zero')\n",
    "else:\n",
    "    print('Temp is a negative number!!')"
   ]
  },
  {
   "cell_type": "markdown",
   "id": "386dd273",
   "metadata": {},
   "source": [
    "### If and Or logical operators"
   ]
  },
  {
   "cell_type": "code",
   "execution_count": null,
   "id": "810c7545",
   "metadata": {},
   "outputs": [],
   "source": [
    "#syntax\n",
    "if condition or condition:\n",
    "    code"
   ]
  },
  {
   "cell_type": "code",
   "execution_count": 42,
   "id": "a72b80d2",
   "metadata": {},
   "outputs": [],
   "source": [
    "name = 'mioro'\n",
    "rank = 12"
   ]
  },
  {
   "cell_type": "code",
   "execution_count": 43,
   "id": "f31406be",
   "metadata": {},
   "outputs": [
    {
     "name": "stdout",
     "output_type": "stream",
     "text": [
      "Access granted\n"
     ]
    }
   ],
   "source": [
    "if name == 'admin' or rank >= 4:\n",
    "    print('Access granted')\n",
    "else:\n",
    "    print('Access denied')"
   ]
  },
  {
   "cell_type": "code",
   "execution_count": null,
   "id": "014ba89f",
   "metadata": {},
   "outputs": [],
   "source": []
  }
 ],
 "metadata": {
  "kernelspec": {
   "display_name": "Python 3",
   "language": "python",
   "name": "python3"
  },
  "language_info": {
   "codemirror_mode": {
    "name": "ipython",
    "version": 3
   },
   "file_extension": ".py",
   "mimetype": "text/x-python",
   "name": "python",
   "nbconvert_exporter": "python",
   "pygments_lexer": "ipython3",
   "version": "3.12.9"
  }
 },
 "nbformat": 4,
 "nbformat_minor": 5
}
